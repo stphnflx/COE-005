{
  "nbformat": 4,
  "nbformat_minor": 0,
  "metadata": {
    "colab": {
      "provenance": [],
      "collapsed_sections": []
    },
    "kernelspec": {
      "name": "python3",
      "display_name": "Python 3"
    },
    "language_info": {
      "name": "python"
    }
  },
  "cells": [
    {
      "cell_type": "code",
      "source": [
        "from google.colab import drive\n",
        "drive.mount('/content/drive')"
      ],
      "metadata": {
        "colab": {
          "base_uri": "https://localhost:8080/"
        },
        "id": "PEHoJotXO-y7",
        "outputId": "2d023e50-dced-45f0-e21d-867c66d3baf1"
      },
      "execution_count": null,
      "outputs": [
        {
          "output_type": "stream",
          "name": "stdout",
          "text": [
            "Mounted at /content/drive\n"
          ]
        }
      ]
    },
    {
      "cell_type": "code",
      "execution_count": null,
      "metadata": {
        "id": "9NonfVF9HZYg"
      },
      "outputs": [],
      "source": [
        "#to be use in image merging\n",
        "from PIL import Image\n",
        "import matplotlib.pyplot as plt\n",
        "import matplotlib.image as mpimg"
      ]
    },
    {
      "cell_type": "code",
      "source": [
        "dir=\"/content/drive/MyDrive/COE - 005 (G9)/best_img/\""
      ],
      "metadata": {
        "id": "RlJ1dRCkI-Z9"
      },
      "execution_count": null,
      "outputs": []
    },
    {
      "cell_type": "code",
      "source": [
        "#create function for hyphenator \n",
        "def hyphenate(word):\n",
        "    consonant=\"qwrtypsdfghjklzxcvbnm\"\n",
        "    vowels=\"aeiou\"\n",
        "    sylla=[]\n",
        "    word = word.lower()\n",
        "    i = len(word)       \n",
        "    sy=\"\"\n",
        "    ii=0\n",
        "    c=0\n",
        "    for letter in word:\n",
        "\n",
        "        if letter ==\"e\":\n",
        "            letter=\"i\"\n",
        "            \n",
        "        if letter ==\"o\":\n",
        "            letter =\"u\"\n",
        "            \n",
        "        if letter ==\"c\":\n",
        "            letter=\"k\"\n",
        "\n",
        "        if letter ==\"z\":\n",
        "            letter=\"s\"\n",
        "            \n",
        "        if letter ==\"f\":\n",
        "            letter=\"p\"\n",
        "            \n",
        "        sy=sy+letter\n",
        "\n",
        "        if letter in vowels and i!=len(word):\n",
        "            sylla.append(sy) \n",
        "            sy=\"\"\n",
        "            i=i-2            \n",
        "            c=0\n",
        "            \n",
        "        elif letter in vowels:\n",
        "            sylla.append(sy)\n",
        "            sy=\"\"\n",
        "            i=i-1            \n",
        "            c=0\n",
        "            \n",
        "        if letter in consonant:\n",
        "            c= c+1\n",
        "    \n",
        "            if c==1 and ii==len(word)-1:\n",
        "                sylla.append(sy)\n",
        "                sy=\"\"\n",
        "                c=0\n",
        "           \n",
        "            if c==2 and ii==len(word)-1:\n",
        "                    sylla.append(sy)\n",
        "                    sy=\"\"\n",
        "                    c=0\n",
        "                    \n",
        "            if ii !=len(word)-1 and word[ii+1] in consonant and word[ii+1] !=\"g\":\n",
        "                sylla.append(sy)\n",
        "                sy=\"\"\n",
        "                c=0\n",
        "                \n",
        "        ii=ii+1\n",
        "\n",
        "    return(sylla)"
      ],
      "metadata": {
        "id": "N9V8SneiHuJQ"
      },
      "execution_count": null,
      "outputs": []
    },
    {
      "cell_type": "code",
      "source": [
        "#dictionary of directory per syllable\n",
        "baybay={\"a\": str(dir+\"best_a.png\"),\"i\":str(dir+\"best_i.png\"),\"u\":str(dir+\"best_u.png\"),\n",
        "        \"ka\":str(dir+\"best_ka.png\"),\"ga\":str(dir+\"best_ga.png\"),\"nga\":str(dir+\"best_nga.png\"),\"ta\":str(dir+\"best_ta.png\"),\n",
        "        \"da\":str(dir+\"best_da.png\"),\"na\":str(dir+\"best_na.png\"),\"pa\":str(dir+\"best_pa.png\"),\"ba\":str(dir+\"best_ba.png\"),\n",
        "        \"ma\":str(dir+\"best_ma.png\"),\"ya\":str(dir+\"best_ya.png\"),\"ra\":str(dir+\"best_ra.png\"),\"la\":str(dir+\"best_la.png\"),\n",
        "        \"wa\":str(dir+\"best_wa.png\"),\"sa\":str(dir+\"best_sa.png\"),\"ha\":str(dir+\"best_ha.png\"),\"k\":str(dir+\"best_k.png\"),\n",
        "        \"g\":str(dir+\"best_g.png\"),\"ng\":str(dir+\"best_ng.png\"),\"t\":str(dir+\"best_t.png\"),\"d\":str(dir+\"best_d.png\"),\n",
        "        \"n\":str(dir+\"best_n.png\"),\"p\":str(dir+\"best_p.png\"),\"b\":str(dir+\"best_b.png\"),\"m\":str(dir+\"best_m.png\"),\n",
        "        \"y\":str(dir+\"best_y.png\"),\"r\":str(dir+\"best_r.png\"),\"l\":str(dir+\"best_l.png\"),\"w\":str(dir+\"best_w.png\"),\n",
        "        \"s\":str(dir+\"best_s.png\"),\"h\":str(dir+\"best_h.png\"),\"ki\":str(dir+\"best_ki.png\"),\"gi\":str(dir+\"not_best_gi.png\"),\n",
        "        \"ngi\":str(dir+\"best_ngi.png\"),\"ti\":str(dir+\"best_ti.png\"),\"di\":str(dir+\"best_di.png\"),\"ni\":str(dir+\"best_ni.png\"),\n",
        "        \"pi\":str(dir+\"best_pi.png\"),\"bi\":str(dir+\"best_bi.png\"),\"mi\":str(dir+\"best_mi.png\"),\"yi\":str(dir+\"best_yi.png\"),\n",
        "        \"ri\":str(dir+\"best_ri.png\"),\"li\":str(dir+\"best_li.png\"),\"wi\":str(dir+\"best_wi.png\"),\"si\":str(dir+\"best_si.png\"),\n",
        "        \"hi\":str(dir+\"best_hi.png\"),\"ku\":str(dir+\"best_ku.png\"),\"gu\":str(dir+\"best_gu.png\"),\"ngu\":str(dir+\"best_ngu.png\"),\n",
        "        \"tu\":str(dir+\"best_tu.png\"),\"du\":str(dir+\"best_du.png\"),\"nu\":str(dir+\"best_nu.png\"),\"pu\":str(dir+\"best_pu.png\"),\n",
        "        \"bu\":str(dir+\"best_bu.png\"),\"mu\":str(dir+\"best_mu.png\"),\"yu\":str(dir+\"best_yu.png\"),\"ru\":str(dir+\"best_ru.png\"),\n",
        "        \"lu\":str(dir+\"best_lu.png\"),\"wu\":str(dir+\"best_wu.png\"),\"su\":str(dir+\"best_su.png\"),\"hu\":str(dir+\"best_hu.png\"),\n",
        "        }"
      ],
      "metadata": {
        "id": "krDDlyBRHk6N"
      },
      "execution_count": null,
      "outputs": []
    },
    {
      "cell_type": "code",
      "source": [
        "#storage for the directories\n",
        "baybayimage=[]\n",
        "while True:\n",
        "    plt. axis('off')\n",
        "    word=input(\"input a word: \")\n",
        "    if word==\"*stop*\":\n",
        "      print(\"Thank you for using our transliterator\")\n",
        "      break\n",
        "    hyp_word=hyphenate(word)\n",
        "    print(hyp_word)\n",
        "    \n",
        "    for element in hyp_word:\n",
        "        baybayimage.append(baybay[element])\n",
        "    print(baybayimage)\n",
        "\n",
        "    images = [Image.open(x) for x in baybayimage]\n",
        "    total_width = 0\n",
        "    max_height = 0\n",
        "    # find the width and height of the final image\n",
        "    for img in images:\n",
        "        total_width += img.size[0]\n",
        "        max_height = max(max_height, img.size[1])\n",
        "\n",
        "    # create a new image with the appropriate height and width\n",
        "\n",
        "    new_img = Image.new('RGB', (total_width, max_height))\n",
        "    # Write the contents of the new image\n",
        "\n",
        "    current_width = 0\n",
        "\n",
        "    #defining sites\n",
        "    for img in images:\n",
        "      new_img.paste(img, (current_width,0))\n",
        "      current_width += img.size[0]\n",
        "\n",
        "    # Save the image\n",
        "    new_img.save('output.jpg')\n",
        "\n",
        "    #display\n",
        "    img = mpimg.imread('output.jpg')\n",
        "    imgplot = plt.imshow(img)\n",
        "    plt.show()\n",
        "    plt.close(\"all\")\n",
        "\n",
        "    #clearing the used variable\n",
        "\n",
        "    baybayimage=[]"
      ],
      "metadata": {
        "colab": {
          "base_uri": "https://localhost:8080/",
          "height": 835
        },
        "id": "lpJYv8n_IKx2",
        "outputId": "64dd9a63-44ae-4259-a7a6-0f7d36298403"
      },
      "execution_count": null,
      "outputs": [
        {
          "output_type": "stream",
          "name": "stdout",
          "text": [
            "input a word: halaman\n",
            "['ha', 'la', 'ma', 'n']\n",
            "['/content/drive/MyDrive/COE - 005 (G9)/best_img/best_ha.png', '/content/drive/MyDrive/COE - 005 (G9)/best_img/best_la.png', '/content/drive/MyDrive/COE - 005 (G9)/best_img/best_ma.png', '/content/drive/MyDrive/COE - 005 (G9)/best_img/best_n.png']\n"
          ]
        },
        {
          "output_type": "display_data",
          "data": {
            "text/plain": [
              "<Figure size 432x288 with 1 Axes>"
            ],
            "image/png": "[encoded data removed]"
          },
          "metadata": {
            "needs_background": "light"
          }
        },
        {
          "output_type": "stream",
          "name": "stdout",
          "text": [
            "input a word: rifareal\n",
            "['ri', 'pa', 'ri', 'a', 'l']\n",
            "['/content/drive/MyDrive/COE - 005 (G9)/best_img/best_ri.png', '/content/drive/MyDrive/COE - 005 (G9)/best_img/best_pa.png', '/content/drive/MyDrive/COE - 005 (G9)/best_img/best_ri.png', '/content/drive/MyDrive/COE - 005 (G9)/best_img/best_a.png', '/content/drive/MyDrive/COE - 005 (G9)/best_img/best_l.png']\n"
          ]
        },
        {
          "output_type": "error",
          "ename": "FileNotFoundError",
          "evalue": "ignored",
          "traceback": [
            "\u001b[0;31m---------------------------------------------------------------------------\u001b[0m",
            "\u001b[0;31mFileNotFoundError\u001b[0m                         Traceback (most recent call last)",
            "\u001b[0;32m<ipython-input-6-adf5dad46bad>\u001b[0m in \u001b[0;36m<module>\u001b[0;34m\u001b[0m\n\u001b[1;32m     14\u001b[0m     \u001b[0mprint\u001b[0m\u001b[0;34m(\u001b[0m\u001b[0mbaybayimage\u001b[0m\u001b[0;34m)\u001b[0m\u001b[0;34m\u001b[0m\u001b[0;34m\u001b[0m\u001b[0m\n\u001b[1;32m     15\u001b[0m \u001b[0;34m\u001b[0m\u001b[0m\n\u001b[0;32m---> 16\u001b[0;31m     \u001b[0mimages\u001b[0m \u001b[0;34m=\u001b[0m \u001b[0;34m[\u001b[0m\u001b[0mImage\u001b[0m\u001b[0;34m.\u001b[0m\u001b[0mopen\u001b[0m\u001b[0;34m(\u001b[0m\u001b[0mx\u001b[0m\u001b[0;34m)\u001b[0m \u001b[0;32mfor\u001b[0m \u001b[0mx\u001b[0m \u001b[0;32min\u001b[0m \u001b[0mbaybayimage\u001b[0m\u001b[0;34m]\u001b[0m\u001b[0;34m\u001b[0m\u001b[0;34m\u001b[0m\u001b[0m\n\u001b[0m\u001b[1;32m     17\u001b[0m     \u001b[0mtotal_width\u001b[0m \u001b[0;34m=\u001b[0m \u001b[0;36m0\u001b[0m\u001b[0;34m\u001b[0m\u001b[0;34m\u001b[0m\u001b[0m\n\u001b[1;32m     18\u001b[0m     \u001b[0mmax_height\u001b[0m \u001b[0;34m=\u001b[0m \u001b[0;36m0\u001b[0m\u001b[0;34m\u001b[0m\u001b[0;34m\u001b[0m\u001b[0m\n",
            "\u001b[0;32m<ipython-input-6-adf5dad46bad>\u001b[0m in \u001b[0;36m<listcomp>\u001b[0;34m(.0)\u001b[0m\n\u001b[1;32m     14\u001b[0m     \u001b[0mprint\u001b[0m\u001b[0;34m(\u001b[0m\u001b[0mbaybayimage\u001b[0m\u001b[0;34m)\u001b[0m\u001b[0;34m\u001b[0m\u001b[0;34m\u001b[0m\u001b[0m\n\u001b[1;32m     15\u001b[0m \u001b[0;34m\u001b[0m\u001b[0m\n\u001b[0;32m---> 16\u001b[0;31m     \u001b[0mimages\u001b[0m \u001b[0;34m=\u001b[0m \u001b[0;34m[\u001b[0m\u001b[0mImage\u001b[0m\u001b[0;34m.\u001b[0m\u001b[0mopen\u001b[0m\u001b[0;34m(\u001b[0m\u001b[0mx\u001b[0m\u001b[0;34m)\u001b[0m \u001b[0;32mfor\u001b[0m \u001b[0mx\u001b[0m \u001b[0;32min\u001b[0m \u001b[0mbaybayimage\u001b[0m\u001b[0;34m]\u001b[0m\u001b[0;34m\u001b[0m\u001b[0;34m\u001b[0m\u001b[0m\n\u001b[0m\u001b[1;32m     17\u001b[0m     \u001b[0mtotal_width\u001b[0m \u001b[0;34m=\u001b[0m \u001b[0;36m0\u001b[0m\u001b[0;34m\u001b[0m\u001b[0;34m\u001b[0m\u001b[0m\n\u001b[1;32m     18\u001b[0m     \u001b[0mmax_height\u001b[0m \u001b[0;34m=\u001b[0m \u001b[0;36m0\u001b[0m\u001b[0;34m\u001b[0m\u001b[0;34m\u001b[0m\u001b[0m\n",
            "\u001b[0;32m/usr/local/lib/python3.7/dist-packages/PIL/Image.py\u001b[0m in \u001b[0;36mopen\u001b[0;34m(fp, mode)\u001b[0m\n\u001b[1;32m   2841\u001b[0m \u001b[0;34m\u001b[0m\u001b[0m\n\u001b[1;32m   2842\u001b[0m     \u001b[0;32mif\u001b[0m \u001b[0mfilename\u001b[0m\u001b[0;34m:\u001b[0m\u001b[0;34m\u001b[0m\u001b[0;34m\u001b[0m\u001b[0m\n\u001b[0;32m-> 2843\u001b[0;31m         \u001b[0mfp\u001b[0m \u001b[0;34m=\u001b[0m \u001b[0mbuiltins\u001b[0m\u001b[0;34m.\u001b[0m\u001b[0mopen\u001b[0m\u001b[0;34m(\u001b[0m\u001b[0mfilename\u001b[0m\u001b[0;34m,\u001b[0m \u001b[0;34m\"rb\"\u001b[0m\u001b[0;34m)\u001b[0m\u001b[0;34m\u001b[0m\u001b[0;34m\u001b[0m\u001b[0m\n\u001b[0m\u001b[1;32m   2844\u001b[0m         \u001b[0mexclusive_fp\u001b[0m \u001b[0;34m=\u001b[0m \u001b[0;32mTrue\u001b[0m\u001b[0;34m\u001b[0m\u001b[0;34m\u001b[0m\u001b[0m\n\u001b[1;32m   2845\u001b[0m \u001b[0;34m\u001b[0m\u001b[0m\n",
            "\u001b[0;31mFileNotFoundError\u001b[0m: [Errno 2] No such file or directory: '/content/drive/MyDrive/COE - 005 (G9)/best_img/best_ri.png'"
          ]
        },
        {
          "output_type": "display_data",
          "data": {
            "text/plain": [
              "<Figure size 432x288 with 1 Axes>"
            ],
            "image/png": "[encoded data removed]"
          },
          "metadata": {
            "needs_background": "light"
          }
        }
      ]
    }
  ]
}